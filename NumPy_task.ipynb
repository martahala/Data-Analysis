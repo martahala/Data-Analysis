{
 "cells": [
  {
   "cell_type": "code",
   "execution_count": 1,
   "id": "8212395f-0bde-4f1a-ae36-9b03649993b7",
   "metadata": {},
   "outputs": [],
   "source": [
    "import numpy as np"
   ]
  },
  {
   "cell_type": "code",
   "execution_count": 55,
   "id": "9d2523ef-d71d-4a12-a5a6-46505431c571",
   "metadata": {},
   "outputs": [
    {
     "name": "stdout",
     "output_type": "stream",
     "text": [
      "Original array: [-8 -8 10 10  8  0  8 -1 -4 -9]\n",
      "Modified array: [-8 -8 10 10 -8  0 -8 -1 -4 -9]\n"
     ]
    }
   ],
   "source": [
    "# 1. You have an array of random numbers. \n",
    "# You need to flip the sign of the elements whose values are between 3 and 8 (inclusive).\n",
    "\n",
    "# create a random array of 10 integers from -10 to 10\n",
    "arr = np.random.randint(-10, 11, size=10)\n",
    "print(\"Original array:\", arr)\n",
    "\n",
    "# flip the sign of elements between 3 and 8 inclusive\n",
    "arr[(arr >= 3) & (arr <= 8)] *= -1\n",
    "\n",
    "print(\"Modified array:\", arr)"
   ]
  },
  {
   "cell_type": "code",
   "execution_count": 58,
   "id": "fa471147-8577-41d8-b58c-94088f843c9d",
   "metadata": {},
   "outputs": [
    {
     "name": "stdout",
     "output_type": "stream",
     "text": [
      "Modified array: [-8 -8  0  0 -8  0 -8 -1 -4 -9]\n"
     ]
    }
   ],
   "source": [
    "# 2. Take a random array and replace its maximum element with 0.\n",
    "\n",
    "# find the index of the maximum element\n",
    "max_index = np.argmax(arr)\n",
    "\n",
    "# replace it with 0\n",
    "arr[max_index] = 0\n",
    "\n",
    "print(\"Modified array:\", arr)"
   ]
  },
  {
   "cell_type": "code",
   "execution_count": 59,
   "id": "e7a14b03-ffdb-400a-9718-3c4e6bedcf58",
   "metadata": {},
   "outputs": [
    {
     "name": "stdout",
     "output_type": "stream",
     "text": [
      "[[  1  10 100]\n",
      " [  1  10 400]\n",
      " [  1  30 100]\n",
      " [  1  30 400]\n",
      " [  1  50 100]\n",
      " [  1  50 400]\n",
      " [  5  10 100]\n",
      " [  5  10 400]\n",
      " [  5  30 100]\n",
      " [  5  30 400]\n",
      " [  5  50 100]\n",
      " [  5  50 400]]\n"
     ]
    }
   ],
   "source": [
    "# 3. Construct the Cartesian product of arrays (all combinations taking one element from each array). \n",
    "# The input is a two-dimensional array.\n",
    "\n",
    "\n",
    "def cartesian_product_numpy(arrays):\n",
    "    if isinstance(arrays, np.ndarray) and arrays.ndim == 2:\n",
    "        arrays = [arrays[i] for i in range(arrays.shape[0])]\n",
    "    arrays = [np.asarray(a) for a in arrays]\n",
    "\n",
    "    if any(a.size == 0 for a in arrays):\n",
    "        return np.empty((0, len(arrays)))\n",
    "\n",
    "    grids = np.meshgrid(*arrays, indexing='ij')   # список массивов форм разных размеров\n",
    "    stacked = np.stack(grids, axis=-1)           # shape = (..., k)\n",
    "    return stacked.reshape(-1, len(arrays))\n",
    "\n",
    "arrays = [\n",
    "    [1, 5],\n",
    "    [10, 30, 50],\n",
    "    [100, 400]\n",
    "]\n",
    "\n",
    "print(cartesian_product_numpy(arrays))"
   ]
  },
  {
   "cell_type": "code",
   "execution_count": 60,
   "id": "fb87adc3-d283-4227-b80f-507b6fdbbc97",
   "metadata": {},
   "outputs": [
    {
     "name": "stdout",
     "output_type": "stream",
     "text": [
      "[[1 7 3]\n",
      " [3 1 2]]\n"
     ]
    }
   ],
   "source": [
    "# 4. Given array A (8×3) and array B (2×2), find rows in A that contain all elements of at least one row from B, regardless of order.\n",
    "\n",
    "import numpy as np\n",
    "\n",
    "A = np.array([\n",
    "    [1, 7, 3],\n",
    "    [4, 5, 6],\n",
    "    [2, 3, 4],\n",
    "    [7, 4, 9],\n",
    "    [3, 1, 2],\n",
    "    [5, 6, 4],\n",
    "    [9, 7, 8],\n",
    "    [2, 4, 3]\n",
    "])\n",
    "\n",
    "B = np.array([\n",
    "    [1, 3],\n",
    "    [4, 8]\n",
    "])\n",
    "\n",
    "# Compare: for each row in A and each row in B, check membership\n",
    "mask = (A[:, None, None, :] == B[None, :, :, None])\n",
    "\n",
    "# mask shape = (8, 2, 2, 3) → whether each element of B is in row of A\n",
    "contains = mask.any(-1).all(-1)\n",
    "\n",
    "# Pick rows of A that match at least one row in B\n",
    "rows_selected = A[contains.any(1)]\n",
    "\n",
    "print(rows_selected)\n"
   ]
  },
  {
   "cell_type": "code",
   "execution_count": 61,
   "id": "feb80a0c-91fd-45d9-9c89-06d286b0e7b9",
   "metadata": {},
   "outputs": [
    {
     "name": "stdout",
     "output_type": "stream",
     "text": [
      "[[ 2  1  3]\n",
      " [ 3  5  3]\n",
      " [ 1  2  1]\n",
      " [ 5  6  5]\n",
      " [ 8  9  8]\n",
      " [11 12 11]]\n"
     ]
    }
   ],
   "source": [
    "# 5. Given a 10×3 matrix, find the rows with unequal values (for example, the row [2, 2, 3] is kept, while the row [3, 3, 3] is removed).\n",
    "\n",
    "import numpy as np\n",
    "\n",
    "# Example 10x3 matrix\n",
    "A = np.array([\n",
    "    [2, 1, 3],\n",
    "    [3, 5, 3],\n",
    "    [1, 2, 1],\n",
    "    [4, 4, 4],\n",
    "    [5, 6, 5],\n",
    "    [7, 7, 7],\n",
    "    [8, 9, 8],\n",
    "    [10, 10, 10],\n",
    "    [11, 12, 11],\n",
    "    [13, 13, 13]\n",
    "])\n",
    "\n",
    "# Check which rows do NOT have all elements equal\n",
    "mask = ~(A == A[:, [0]]).all(axis=1)\n",
    "\n",
    "# Select those rows\n",
    "result = A[mask]\n",
    "\n",
    "print(result)\n"
   ]
  },
  {
   "cell_type": "code",
   "execution_count": 63,
   "id": "fcaba5c1-a9cd-4e3a-a8cb-a5d8742a2823",
   "metadata": {},
   "outputs": [
    {
     "name": "stdout",
     "output_type": "stream",
     "text": [
      "[[1 2 3]\n",
      " [4 5 6]\n",
      " [6 6 6]\n",
      " [7 8 9]]\n"
     ]
    }
   ],
   "source": [
    "# 6. Given a 2D array, remove the rows that are repeated.\n",
    "\n",
    "import numpy as np\n",
    "\n",
    "# Example array\n",
    "A = np.array([\n",
    "    [1, 2, 3],\n",
    "    [6, 6, 6],\n",
    "    [1, 2, 3],\n",
    "    [7, 8, 9],\n",
    "    [4, 5, 6]\n",
    "])\n",
    "\n",
    "# Use np.unique with axis=0 to remove duplicate rows\n",
    "result = np.unique(A, axis=0)\n",
    "\n",
    "print(result)"
   ]
  },
  {
   "cell_type": "code",
   "execution_count": 64,
   "id": "3b7e0ec0-d4eb-4004-9434-b6e0583d26e9",
   "metadata": {},
   "outputs": [
    {
     "name": "stdout",
     "output_type": "stream",
     "text": [
      "3\n",
      "3\n"
     ]
    }
   ],
   "source": [
    "# Tasks 1-5\n",
    "\n",
    "# Task 1. Product of nonzero elements on the diagonal of a rectangular matrix\n",
    "\n",
    "# Python\n",
    "X = [\n",
    "    [1, 0, 1],\n",
    "    [2, 0, 2],\n",
    "    [3, 0, 3],\n",
    "    [4, 4, 4]\n",
    "]\n",
    "\n",
    "diag = [X[i][i] for i in range(min(len(X), len(X[0])))]\n",
    "prod = 1\n",
    "for x in diag:\n",
    "    if x != 0:\n",
    "        prod *= x\n",
    "print(prod)  \n",
    "\n",
    "# NumPy\n",
    "import numpy as np\n",
    "X = np.array([[1, 0, 1],\n",
    "              [2, 0, 2],\n",
    "              [3, 0, 3],\n",
    "              [4, 4, 4]])\n",
    "\n",
    "diag = np.diag(X)\n",
    "prod = diag[diag != 0].prod()\n",
    "print(prod)"
   ]
  },
  {
   "cell_type": "code",
   "execution_count": 65,
   "id": "6a85f69d-517e-4098-a6fe-3e9396f7d92c",
   "metadata": {},
   "outputs": [
    {
     "name": "stdout",
     "output_type": "stream",
     "text": [
      "True\n",
      "True\n"
     ]
    }
   ],
   "source": [
    "# Task 2. Check if two vectors represent the same multiset\n",
    "\n",
    "# Python\n",
    "x = [1, 2, 2, 4]\n",
    "y = [4, 2, 1, 2]\n",
    "\n",
    "from collections import Counter\n",
    "print(Counter(x) == Counter(y))\n",
    "\n",
    "# NumPy\n",
    "x = np.array([1, 2, 2, 4])\n",
    "y = np.array([4, 2, 1, 2])\n",
    "\n",
    "print(np.array_equal(np.sort(x), np.sort(y)))"
   ]
  },
  {
   "cell_type": "code",
   "execution_count": 66,
   "id": "5ec28825-6974-4f92-bf62-232bb70d7764",
   "metadata": {},
   "outputs": [
    {
     "name": "stdout",
     "output_type": "stream",
     "text": [
      "5\n",
      "5\n"
     ]
    }
   ],
   "source": [
    "# Task 3. Maximum element in a vector that precedes a zero\n",
    "\n",
    "# Python\n",
    "x = [6, 2, 0, 3, 0, 0, 5, 7, 0]\n",
    "candidates = [x[i] for i in range(1, len(x)) if x[i-1] == 0]\n",
    "print(max(candidates))\n",
    "\n",
    "# NumPy\n",
    "x = np.array([6, 2, 0, 3, 0, 0, 5, 7, 0])\n",
    "candidates = x[1:][x[:-1] == 0]\n",
    "print(candidates.max())"
   ]
  },
  {
   "cell_type": "code",
   "execution_count": 67,
   "id": "c3f3d29d-b0b4-4a2b-bf14-51094b32d551",
   "metadata": {},
   "outputs": [
    {
     "name": "stdout",
     "output_type": "stream",
     "text": [
      "[2, 3, 5] [3, 3, 1]\n",
      "[2 3 5] [3 3 1]\n"
     ]
    }
   ],
   "source": [
    "# Task 4. Run-length encoding (RLE)\n",
    "\n",
    "# Python\n",
    "x = [2, 2, 2, 3, 3, 3, 5]\n",
    "\n",
    "values, counts = [], []\n",
    "current = x[0]\n",
    "cnt = 1\n",
    "for e in x[1:]:\n",
    "    if e == current:\n",
    "        cnt += 1\n",
    "    else:\n",
    "        values.append(current)\n",
    "        counts.append(cnt)\n",
    "        current = e\n",
    "        cnt = 1\n",
    "values.append(current)\n",
    "counts.append(cnt)\n",
    "\n",
    "print(values, counts)  \n",
    "\n",
    "# NumPy\n",
    "x = np.array([2, 2, 2, 3, 3, 3, 5])\n",
    "mask = np.r_[True, x[1:] != x[:-1]]\n",
    "values = x[mask]\n",
    "counts = np.diff(np.r_[np.where(mask)[0], len(x)])\n",
    "print(values, counts)\n"
   ]
  },
  {
   "cell_type": "code",
   "execution_count": 8,
   "id": "f86a91a6-f52d-4070-9599-4fc9a07b8023",
   "metadata": {},
   "outputs": [
    {
     "name": "stdout",
     "output_type": "stream",
     "text": [
      "[[1.4142135623730951, 2.0], [1.0, 1.0]]\n",
      "Python execution time: 0.0006520748138427734 seconds\n",
      "[[1.41421356 2.        ]\n",
      " [1.         1.        ]]\n",
      "NumPy execution time: 0.0005509853363037109 seconds\n",
      "[[1.41421356 2.        ]\n",
      " [1.         1.        ]]\n",
      "SciPy cdist execution time: 0.00034999847412109375 seconds\n",
      "Max difference Python vs NumPy: 0.0\n",
      "Max difference Python vs SciPy: 0.0\n",
      "Max difference NumPy vs SciPy: 0.0\n"
     ]
    }
   ],
   "source": [
    "# 5. Euclidean distance matrix between two sets of objects\n",
    "\n",
    "# Python\n",
    "X = [[0,0],[1,0]]\n",
    "Y = [[1,1],[2,0]]\n",
    "\n",
    "import math\n",
    "start = time.time()\n",
    "dist_matrix = [[math.sqrt(sum((xi-yi)**2 for xi, yi in zip(x, y))) for y in Y] for x in X]\n",
    "print(dist_matrix)\n",
    "end = time.time()\n",
    "print(\"Python execution time:\", end-start, \"seconds\")\n",
    "\n",
    "# NumPy\n",
    "X = np.array([[0,0],[1,0]])\n",
    "Y = np.array([[1,1],[2,0]])\n",
    "start = time.time()\n",
    "dist_matrix = np.sqrt(((X[:, None, :] - Y[None, :, :])**2).sum(axis=2))\n",
    "print(dist_matrix)\n",
    "end = time.time()\n",
    "print(\"NumPy execution time:\", end-start, \"seconds\")\n",
    "\n",
    "# Comparison with scipy.spatial.distance.cdist\n",
    "from scipy.spatial.distance import cdist\n",
    "start = time.time()\n",
    "dist_matrix = cdist(X, Y, metric='euclidean')\n",
    "print(dist_matrix)\n",
    "end = time.time()\n",
    "print(\"SciPy cdist execution time:\", end-start, \"seconds\")\n",
    "\n",
    "max_diff_py_np = np.max(np.abs(np.array(dist_matrix_py) - dist_matrix_np))\n",
    "max_diff_py_scipy = np.max(np.abs(np.array(dist_matrix_py) - dist_matrix_scipy))\n",
    "max_diff_np_scipy = np.max(np.abs(dist_matrix_np - dist_matrix_scipy))\n",
    "\n",
    "\n",
    "print(\"Max difference Python vs NumPy:\", max_diff_py_np)\n",
    "print(\"Max difference Python vs SciPy:\", max_diff_py_scipy)\n",
    "print(\"Max difference NumPy vs SciPy:\", max_diff_np_scipy)"
   ]
  },
  {
   "cell_type": "code",
   "execution_count": 10,
   "id": "f2b1b30d-ba7a-481e-9c30-b70071a80949",
   "metadata": {},
   "outputs": [
    {
     "data": {
      "text/plain": [
       "array([ 70., 120.,  70.,  50., 110., 110., 110., 130.,  90.,  90., 120.,\n",
       "       110., 120., 110., 110., 110., 100., 110., 110., 110., 100., 110.,\n",
       "       100., 100., 110., 110., 100., 120., 120., 110., 100., 110., 100.,\n",
       "       110., 120., 120., 110., 110., 110., 140., 110., 100., 110., 100.,\n",
       "       150., 150., 160., 100., 120., 140.,  90., 130., 120., 100.,  50.,\n",
       "        50., 100., 100., 120., 100.,  90., 110., 110.,  80.,  90.,  90.,\n",
       "       110., 110.,  90., 110., 140., 100., 110., 110., 100., 100., 110.])"
      ]
     },
     "execution_count": 10,
     "metadata": {},
     "output_type": "execute_result"
    }
   ],
   "source": [
    "# Task СrunchieMunchies\n",
    "# Task 1. \n",
    "import numpy as np\n",
    "calorie_stats = np.loadtxt(\"/cereal.csv\", delimiter=\",\", skiprows=0)\n",
    "calorie_stats"
   ]
  },
  {
   "cell_type": "code",
   "execution_count": 41,
   "id": "e2d0be04-e19a-47f5-af9c-70121e6327d3",
   "metadata": {},
   "outputs": [
    {
     "name": "stdout",
     "output_type": "stream",
     "text": [
      "Average calories of competitors: 106.88311688311688\n",
      "Difference from CrunchieMunchies (60 cal): 46.883116883116884\n"
     ]
    }
   ],
   "source": [
    "# Task 2. Average calories of competitors\n",
    "average_calories = np.mean(calorie_stats)\n",
    "print(\"Average calories of competitors:\", average_calories)\n",
    "print(\"Difference from CrunchieMunchies (60 cal):\", average_calories - 60)\n"
   ]
  },
  {
   "cell_type": "code",
   "execution_count": 42,
   "id": "f606e49d-9d06-4d1c-9d8f-850912c13174",
   "metadata": {},
   "outputs": [
    {
     "name": "stdout",
     "output_type": "stream",
     "text": [
      "Sorted calorie stats: [ 50.  50.  50.  70.  70.  80.  90.  90.  90.  90.  90.  90.  90. 100.\n",
      " 100. 100. 100. 100. 100. 100. 100. 100. 100. 100. 100. 100. 100. 100.\n",
      " 100. 100. 110. 110. 110. 110. 110. 110. 110. 110. 110. 110. 110. 110.\n",
      " 110. 110. 110. 110. 110. 110. 110. 110. 110. 110. 110. 110. 110. 110.\n",
      " 110. 110. 110. 120. 120. 120. 120. 120. 120. 120. 120. 120. 120. 130.\n",
      " 130. 140. 140. 140. 150. 150. 160.]\n"
     ]
    }
   ],
   "source": [
    "# Task 3. Sort the data\n",
    "calorie_stats_sorted = np.sort(calorie_stats)\n",
    "print(\"Sorted calorie stats:\", calorie_stats_sorted)"
   ]
  },
  {
   "cell_type": "code",
   "execution_count": 43,
   "id": "e204bea3-95d0-44d7-9523-1179aa82cf35",
   "metadata": {},
   "outputs": [
    {
     "name": "stdout",
     "output_type": "stream",
     "text": [
      "Median calories: 110.0\n"
     ]
    }
   ],
   "source": [
    "# Task 4. Median\n",
    "median_calories = np.median(calorie_stats)\n",
    "print(\"Median calories:\", median_calories)"
   ]
  },
  {
   "cell_type": "code",
   "execution_count": 50,
   "id": "48ca1052-fbae-495e-86af-418af6f58786",
   "metadata": {},
   "outputs": [
    {
     "name": "stdout",
     "output_type": "stream",
     "text": [
      "Lowest percentile exceeding 60 calories: 4\n"
     ]
    }
   ],
   "source": [
    "# Task 5. Find the lowest percentile exceeding 60 calories\n",
    "percentiles = np.arange(101)  # 0 to 100\n",
    "values_at_percentiles = np.percentile(calorie_stats, percentiles)\n",
    "nth_percentile = percentiles[values_at_percentiles > 60][0]  # first percentile above 60\n",
    "\n",
    "print(\"Lowest percentile exceeding 60 calories:\", nth_percentile)"
   ]
  },
  {
   "cell_type": "code",
   "execution_count": 45,
   "id": "5e5f6719-79c4-48c1-9373-91403272a60f",
   "metadata": {},
   "outputs": [
    {
     "name": "stdout",
     "output_type": "stream",
     "text": [
      "Percentage of cereals > 60 calories: 96.1038961038961\n"
     ]
    }
   ],
   "source": [
    "# Task 6. Percentage of cereals with more than 60 calories\n",
    "more_calories = np.sum(calorie_stats > 60) / calorie_stats.size * 100\n",
    "print(\"Percentage of cereals > 60 calories:\", more_calories)"
   ]
  },
  {
   "cell_type": "code",
   "execution_count": 46,
   "id": "000402ca-41f9-4389-b38f-c136b2ee64a7",
   "metadata": {},
   "outputs": [
    {
     "name": "stdout",
     "output_type": "stream",
     "text": [
      "Standard deviation: 19.35718533390827\n"
     ]
    }
   ],
   "source": [
    "# Task 7. Standard deviation\n",
    "calorie_std = np.std(calorie_stats)\n",
    "print(\"Standard deviation:\", calorie_std)"
   ]
  },
  {
   "cell_type": "code",
   "execution_count": 48,
   "id": "9fc23094-2cba-41d1-bc7e-93c8058e08c2",
   "metadata": {},
   "outputs": [
    {
     "data": {
      "image/png": "[encoded data removed]",
      "text/plain": [
       "<Figure size 1000x600 with 1 Axes>"
      ]
     },
     "metadata": {},
     "output_type": "display_data"
    }
   ],
   "source": [
    "# Task 8. \n",
    "# The analysis demonstrates that competitors’ cereals have a substantially higher average calorie content compared to CrunchieMunchies (60 calories per serving).\n",
    "# With the median exceeding 100 calories, the majority of products on the market are considerably more calorie-dense.\n",
    "# Percentile and proportion analyses confirm that most competitors surpass the 60-calorie mark, \n",
    "# while the standard deviation indicates some variability, yet even lower-calorie options rarely reach the level of CrunchieMunchies.\n",
    "# These insights underscore that CrunchieMunchies is a lighter, healthier alternative, a clear differentiator \n",
    "# that can be leveraged in marketing campaigns to appeal to health-conscious consumers seeking a nutritious breakfast option.\n",
    "\n",
    "# Visualization\n",
    "import matplotlib.pyplot as plt\n",
    "\n",
    "# CrunchieMunchies calories\n",
    "crunchie_munchies_cal = 60\n",
    "\n",
    "# Plot histogram of competitors\n",
    "plt.figure(figsize=(10,6))\n",
    "plt.hist(calorie_stats, bins=15, color='skyblue', edgecolor='black', alpha=0.7, label='Competitors')\n",
    "\n",
    "# Add CrunchieMunchies as a vertical line\n",
    "plt.axvline(crunchie_munchies_cal, color='orange', linewidth=3, label='CrunchieMunchies (60 cal)')\n",
    "\n",
    "# Labels and title\n",
    "plt.xlabel('Calories per serving')\n",
    "plt.ylabel('Number of cereals')\n",
    "plt.title('Calories Comparison: CrunchieMunchies vs Competitors')\n",
    "plt.legend()\n",
    "plt.grid(axis='y', linestyle='--', alpha=0.6)\n",
    "plt.show()\n"
   ]
  },
  {
   "cell_type": "code",
   "execution_count": null,
   "id": "11b68842-5149-47c5-9bd9-e5cb0d152ede",
   "metadata": {},
   "outputs": [],
   "source": []
  }
 ],
 "metadata": {
  "kernelspec": {
   "display_name": "Python 3 (ipykernel)",
   "language": "python",
   "name": "python3"
  },
  "language_info": {
   "codemirror_mode": {
    "name": "ipython",
    "version": 3
   },
   "file_extension": ".py",
   "mimetype": "text/x-python",
   "name": "python",
   "nbconvert_exporter": "python",
   "pygments_lexer": "ipython3",
   "version": "3.11.7"
  }
 },
 "nbformat": 4,
 "nbformat_minor": 5
}
